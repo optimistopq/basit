{
 "cells": [
  {
   "cell_type": "markdown",
   "id": "a14f94b6-01b7-4fa2-8d97-897db5a3bc00",
   "metadata": {
    "tags": []
   },
   "source": [
    "# Data Science Tools and Ecosystem"
   ]
  },
  {
   "cell_type": "markdown",
   "id": "e372e228-03a6-4f5e-9470-e3b5dafb3d73",
   "metadata": {},
   "source": [
    "In this notebook, Data Science Tools and Ecosystem are summarized."
   ]
  },
  {
   "cell_type": "markdown",
   "id": "ccddfa18-a186-419c-8372-9278ef311b05",
   "metadata": {},
   "source": [
    "**Objectives:**\n",
    "+ Python\n",
    "+ Java\n",
    "+ SQL\n",
    "+ R\n",
    "+ Julia"
   ]
  },
  {
   "cell_type": "markdown",
   "id": "e7af193b-fe95-4112-bf9b-c8eacd5b1ef5",
   "metadata": {},
   "source": [
    "Some of the popular languages that Data Scientists use are:\n",
    "    1. Python\n",
    "    2. SQL\n",
    "    3. R"
   ]
  },
  {
   "cell_type": "markdown",
   "id": "55161ea9-ae1c-4de5-9e8a-8407e1fe19f1",
   "metadata": {},
   "source": [
    "Some of the commonly used libraries used by Data Scientists include:\n",
    "    1. Matplotlib\n",
    "    2. Pandas\n",
    "    3. NumPy"
   ]
  },
  {
   "cell_type": "markdown",
   "id": "06d2ed89-1c3c-4b77-b50a-78a176b6de38",
   "metadata": {},
   "source": [
    "| Data Science Tools |\n",
    "|--------------------|\n",
    "| Weka |\n",
    "| Apache Spark |\n",
    "| Project Jupyter |"
   ]
  },
  {
   "cell_type": "markdown",
   "id": "68780cda-12a3-4a75-ab3e-9a0c432ac70b",
   "metadata": {},
   "source": [
    "### Below are a few examples of evaluating arithmetic expressions in Python"
   ]
  },
  {
   "cell_type": "code",
   "execution_count": 1,
   "id": "6c2b6b09-dd0d-4eb2-b120-35aacfa078d2",
   "metadata": {
    "tags": []
   },
   "outputs": [
    {
     "data": {
      "text/plain": [
       "17"
      ]
     },
     "execution_count": 1,
     "metadata": {},
     "output_type": "execute_result"
    }
   ],
   "source": [
    "# This a simple arithmetic expression to mutiply then add integers\n",
    "(3*4)+5"
   ]
  },
  {
   "cell_type": "code",
   "execution_count": 2,
   "id": "4f279a88-912f-4df6-922a-7a80ab40abe9",
   "metadata": {
    "tags": []
   },
   "outputs": [
    {
     "data": {
      "text/plain": [
       "3.3333333333333335"
      ]
     },
     "execution_count": 2,
     "metadata": {},
     "output_type": "execute_result"
    }
   ],
   "source": [
    "# This will convert 200 minutes to hours by diving by 60\n",
    "200/60"
   ]
  },
  {
   "cell_type": "markdown",
   "id": "307f63dc-1903-4254-92ad-e8deb7ecb6c7",
   "metadata": {},
   "source": [
    "## Author\n",
    "Adetona A. Basit"
   ]
  }
 ],
 "metadata": {
  "kernelspec": {
   "display_name": "Python",
   "language": "python",
   "name": "conda-env-python-py"
  },
  "language_info": {
   "codemirror_mode": {
    "name": "ipython",
    "version": 3
   },
   "file_extension": ".py",
   "mimetype": "text/x-python",
   "name": "python",
   "nbconvert_exporter": "python",
   "pygments_lexer": "ipython3",
   "version": "3.7.12"
  }
 },
 "nbformat": 4,
 "nbformat_minor": 5
}
